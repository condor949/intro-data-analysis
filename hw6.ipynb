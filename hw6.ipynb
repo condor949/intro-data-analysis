{
 "cells": [
  {
   "cell_type": "code",
   "execution_count": 2,
   "id": "social-contribution",
   "metadata": {},
   "outputs": [],
   "source": [
    "import numpy as np\n",
    "import matplotlib.pyplot as plt\n",
    "from IPython.display import display, Math, Latex\n",
    "import seaborn as sns\n",
    "%matplotlib inline"
   ]
  },
  {
   "cell_type": "markdown",
   "id": "olive-latino",
   "metadata": {},
   "source": [
    "**Задание 1.** Найти вероятность выпадения 2 или 5 очков при подбрасывании игральной кости, на гранях которой имеются соответственно 1,2,3,4,5 и 6 очков.\n",
    "\n",
    "**Решение**\n",
    "\n",
    "Нас удовлетворяют два варианта, это {выпадение 2-ки или 5-ки}. Соответственно вычисляться будет как отношение балгоприятных исходов к общему количеству:\n",
    "\n",
    "$Р_{\\text{{выпадение 2-ки или 5-ки}}}=\\frac{2}{6}≈0,33$"
   ]
  },
  {
   "cell_type": "markdown",
   "id": "banner-nomination",
   "metadata": {},
   "source": [
    "**Задание 2** Найти вероятность того, что при двух подбрасываниях той же самой игральной кости сначала выпадет 2, а затем 5.\n",
    "\n",
    "**Решение**\n",
    "\n",
    "Вероятность выпадения 2-ки:\n",
    "$P_{2} = \\frac{1}{6}$\n",
    "\n",
    "Вероятность выпадения 5-ки:\n",
    "$P_{5} = \\frac{1}{6}$\n",
    "\n",
    "Вероятность выпадения {сначала 2, а затем 5}:\n",
    "$P_{\\text{{2->5}}} = \\frac{1}{6} * \\frac{1}{6} = \\frac{1}{36}$\n",
    "Потому что только один благоприятный исход"
   ]
  },
  {
   "cell_type": "code",
   "execution_count": null,
   "id": "victorian-waters",
   "metadata": {},
   "outputs": [],
   "source": []
  }
 ],
 "metadata": {
  "kernelspec": {
   "display_name": "Python 3",
   "language": "python",
   "name": "python3"
  },
  "language_info": {
   "codemirror_mode": {
    "name": "ipython",
    "version": 3
   },
   "file_extension": ".py",
   "mimetype": "text/x-python",
   "name": "python",
   "nbconvert_exporter": "python",
   "pygments_lexer": "ipython3",
   "version": "3.8.5"
  }
 },
 "nbformat": 4,
 "nbformat_minor": 5
}
