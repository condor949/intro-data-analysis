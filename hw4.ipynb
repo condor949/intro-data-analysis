{
 "cells": [
  {
   "cell_type": "code",
   "execution_count": 1,
   "id": "latter-bulgarian",
   "metadata": {},
   "outputs": [
    {
     "name": "stdout",
     "output_type": "stream",
     "text": [
      "Задание 1\n"
     ]
    },
    {
     "data": {
      "text/latex": [
       "$\\displaystyle \\frac{\\sin{x}}{x} = 0\\\\\n",
       "x = \\pi n, n \\neq 0 , n \\in Z$"
      ],
      "text/plain": [
       "<IPython.core.display.Math object>"
      ]
     },
     "metadata": {},
     "output_type": "display_data"
    }
   ],
   "source": [
    "import numpy as np\n",
    "import matplotlib.pyplot as plt\n",
    "from IPython.display import display, Math, Latex\n",
    "%matplotlib inline\n",
    "\n",
    "print('Задание 1')\n",
    "display(Math(r\"\"\"\\frac{\\sin{x}}{x} = 0\\\\\n",
    "x = \\pi n, n \\neq 0 , n \\in Z\"\"\"))"
   ]
  },
  {
   "cell_type": "code",
   "execution_count": 2,
   "id": "rapid-direction",
   "metadata": {},
   "outputs": [
    {
     "name": "stdout",
     "output_type": "stream",
     "text": [
      "Задание 2\n"
     ]
    },
    {
     "data": {
      "text/latex": [
       "$\\displaystyle y=k_1 x+b_1\\\\ y=k_2 x+b_2\\\\ y=k_3 x+b_3$"
      ],
      "text/plain": [
       "<IPython.core.display.Math object>"
      ]
     },
     "metadata": {},
     "output_type": "display_data"
    },
    {
     "name": "stdout",
     "output_type": "stream",
     "text": [
      "Запишем в общем виде эти уравнения\n"
     ]
    },
    {
     "data": {
      "text/latex": [
       "$\\displaystyle Ax+By+C=0\\\\k_1 x-1\\cdot y+b_1=0\\\\ k_2 x-1\\cdot y+b_2=0\\\\ k_3 x-1\\cdot y+b_3=0$"
      ],
      "text/plain": [
       "<IPython.core.display.Math object>"
      ]
     },
     "metadata": {},
     "output_type": "display_data"
    },
    {
     "name": "stdout",
     "output_type": "stream",
     "text": [
      "Матричный вид:\n"
     ]
    },
    {
     "data": {
      "text/latex": [
       "$\\displaystyle \\Delta = \\begin{pmatrix}\n",
       "  k_1 & -1 & b_1 \\\\\n",
       "  k_2 & -1 & b_2 \\\\\n",
       "  k_3 & -1 & b_3 \n",
       " \\end{pmatrix}$"
      ],
      "text/plain": [
       "<IPython.core.display.Math object>"
      ]
     },
     "metadata": {},
     "output_type": "display_data"
    },
    {
     "name": "stdout",
     "output_type": "stream",
     "text": [
      "тогда\n"
     ]
    },
    {
     "data": {
      "text/latex": [
       "$\\displaystyle \\delta_1 = \\begin{vmatrix}\n",
       "  k_2 & -1 \\\\\n",
       "  k_3 & -1\\end{vmatrix}$"
      ],
      "text/plain": [
       "<IPython.core.display.Math object>"
      ]
     },
     "metadata": {},
     "output_type": "display_data"
    },
    {
     "data": {
      "text/latex": [
       "$\\displaystyle \\delta_2 = \\begin{vmatrix}\n",
       "  k_1 & -1 \\\\\n",
       "  k_3 & -1\\end{vmatrix}$"
      ],
      "text/plain": [
       "<IPython.core.display.Math object>"
      ]
     },
     "metadata": {},
     "output_type": "display_data"
    },
    {
     "data": {
      "text/latex": [
       "$\\displaystyle \\delta_3 = \\begin{vmatrix}\n",
       "  k_1 & -1 \\\\\n",
       "  k_2 & -1\\end{vmatrix}$"
      ],
      "text/plain": [
       "<IPython.core.display.Math object>"
      ]
     },
     "metadata": {},
     "output_type": "display_data"
    },
    {
     "name": "stdout",
     "output_type": "stream",
     "text": [
      "На основании предыдущего получаем следующие необходимые и достаточные признаки взаимного расположения трех данных прямых. Если:\n"
     ]
    },
    {
     "data": {
      "text/latex": [
       "$\\displaystyle \\Delta = 0, \\delta_1 \\neq 0, \\delta_3 \\neq 0, \\delta_3 \\neq 0,$"
      ],
      "text/plain": [
       "<IPython.core.display.Math object>"
      ]
     },
     "metadata": {},
     "output_type": "display_data"
    },
    {
     "name": "stdout",
     "output_type": "stream",
     "text": [
      "то три данные прямые попарно различны и проходят через одну точку.\n"
     ]
    },
    {
     "data": {
      "text/latex": [
       "$\\displaystyle \\Delta = \\begin{pmatrix}\n",
       "  k_1 & -1 & b_1 \\\\\n",
       "  k_2 & -1 & b_2 \\\\\n",
       "  k_3 & -1 & b_3 \n",
       " \\end{pmatrix} = -k_1 b_3 -k_2 b_1 -k_3 b_2 +k_3 b_1 +k_2 b_1 +k_3 b_2 = 0$"
      ],
      "text/plain": [
       "<IPython.core.display.Math object>"
      ]
     },
     "metadata": {},
     "output_type": "display_data"
    },
    {
     "data": {
      "text/latex": [
       "$\\displaystyle \\delta_1 = \\begin{vmatrix}\n",
       "  k_2 & -1 \\\\\n",
       "  k_3 & -1\\end{vmatrix} = -k_2 - k_3 \\neq 0\\\\-k_2 \\neq k_3$"
      ],
      "text/plain": [
       "<IPython.core.display.Math object>"
      ]
     },
     "metadata": {},
     "output_type": "display_data"
    },
    {
     "data": {
      "text/latex": [
       "$\\displaystyle \\delta_2 = \\begin{vmatrix}\n",
       "  k_1 & -1 \\\\\n",
       "  k_3 & -1\\end{vmatrix} = -k_1 - k_3 \\neq 0\\\\-k_1 \\neq k_3$"
      ],
      "text/plain": [
       "<IPython.core.display.Math object>"
      ]
     },
     "metadata": {},
     "output_type": "display_data"
    },
    {
     "data": {
      "text/latex": [
       "$\\displaystyle \\delta_3 = \\begin{vmatrix}\n",
       "  k_1 & -1 \\\\\n",
       "  k_2 & -1\\end{vmatrix} = -k_1 - k_2 \\neq 0\\\\-k_1 \\neq k_2$"
      ],
      "text/plain": [
       "<IPython.core.display.Math object>"
      ]
     },
     "metadata": {},
     "output_type": "display_data"
    }
   ],
   "source": [
    "print('Задание 2')\n",
    "display(Math(r\"\"\"y=k_1 x+b_1\\\\ y=k_2 x+b_2\\\\ y=k_3 x+b_3\"\"\"))\n",
    "print('Запишем в общем виде эти уравнения')\n",
    "display(Math(r\"\"\"Ax+By+C=0\\\\k_1 x-1\\cdot y+b_1=0\\\\ k_2 x-1\\cdot y+b_2=0\\\\ k_3 x-1\\cdot y+b_3=0\"\"\"))\n",
    "print('Матричный вид:')\n",
    "display(Math(r\"\"\"\\Delta = \\begin{pmatrix}\n",
    "  k_1 & -1 & b_1 \\\\\n",
    "  k_2 & -1 & b_2 \\\\\n",
    "  k_3 & -1 & b_3 \n",
    " \\end{pmatrix}\"\"\"))\n",
    "print('тогда')\n",
    "display(Math(r\"\"\"\\delta_1 = \\begin{vmatrix}\n",
    "  k_2 & -1 \\\\\n",
    "  k_3 & -1\\end{vmatrix}\"\"\"))\n",
    "display(Math(r\"\"\"\\delta_2 = \\begin{vmatrix}\n",
    "  k_1 & -1 \\\\\n",
    "  k_3 & -1\\end{vmatrix}\"\"\"))\n",
    "display(Math(r\"\"\"\\delta_3 = \\begin{vmatrix}\n",
    "  k_1 & -1 \\\\\n",
    "  k_2 & -1\\end{vmatrix}\"\"\"))\n",
    "print(\"\"\"На основании предыдущего получаем следующие необходимые и достаточные признаки взаимного расположения трех данных прямых. Если:\"\"\")\n",
    "display(Math(r\"\"\"\\Delta = 0, \\delta_1 \\neq 0, \\delta_3 \\neq 0, \\delta_3 \\neq 0,\"\"\"))\n",
    "print(\"то три данные прямые попарно различны и проходят через одну точку.\")\n",
    "display(Math(r\"\"\"\\Delta = \\begin{pmatrix}\n",
    "  k_1 & -1 & b_1 \\\\\n",
    "  k_2 & -1 & b_2 \\\\\n",
    "  k_3 & -1 & b_3 \n",
    " \\end{pmatrix} = -k_1 b_3 -k_2 b_1 -k_3 b_2 +k_3 b_1 +k_2 b_1 +k_3 b_2 = 0\"\"\"))\n",
    "display(Math(r\"\"\"\\delta_1 = \\begin{vmatrix}\n",
    "  k_2 & -1 \\\\\n",
    "  k_3 & -1\\end{vmatrix} = -k_2 - k_3 \\neq 0\\\\-k_2 \\neq k_3\"\"\"))\n",
    "display(Math(r\"\"\"\\delta_2 = \\begin{vmatrix}\n",
    "  k_1 & -1 \\\\\n",
    "  k_3 & -1\\end{vmatrix} = -k_1 - k_3 \\neq 0\\\\-k_1 \\neq k_3\"\"\"))\n",
    "display(Math(r\"\"\"\\delta_3 = \\begin{vmatrix}\n",
    "  k_1 & -1 \\\\\n",
    "  k_2 & -1\\end{vmatrix} = -k_1 - k_2 \\neq 0\\\\-k_1 \\neq k_2\"\"\"))\n"
   ]
  },
  {
   "cell_type": "code",
   "execution_count": 3,
   "id": "stock-washer",
   "metadata": {},
   "outputs": [
    {
     "name": "stdout",
     "output_type": "stream",
     "text": [
      "Задание 17.6.4\n"
     ]
    },
    {
     "data": {
      "text/latex": [
       "$\\displaystyle x=-\\sqrt{3}\\\\ x=\\sqrt{2}$"
      ],
      "text/plain": [
       "<IPython.core.display.Math object>"
      ]
     },
     "metadata": {},
     "output_type": "display_data"
    },
    {
     "name": "stdout",
     "output_type": "stream",
     "text": [
      "Угол между двумя прямыми:\n"
     ]
    },
    {
     "data": {
      "text/latex": [
       "$\\displaystyle \\alpha = 0$"
      ],
      "text/plain": [
       "<IPython.core.display.Math object>"
      ]
     },
     "metadata": {},
     "output_type": "display_data"
    },
    {
     "data": {
      "image/png": "[encoded data removed]",
      "text/plain": [
       "<Figure size 432x288 with 1 Axes>"
      ]
     },
     "metadata": {
      "needs_background": "light"
     },
     "output_type": "display_data"
    }
   ],
   "source": [
    "print('Задание 17.6.4')\n",
    "display(Math(r\"\"\"x=-\\sqrt{3}\\\\ x=\\sqrt{2}\"\"\"))\n",
    "x=[np.sqrt(2) for _ in range(10)]\n",
    "y=[i for i in range(10)]\n",
    "plt.plot(x, y, marker='o')\n",
    "x=[-np.sqrt(3) for _ in range(10)]\n",
    "plt.plot(x, y, marker='o')\n",
    "print(\"Угол между двумя прямыми:\")\n",
    "display(Math(r\"\"\"\\alpha = 0\"\"\"))"
   ]
  },
  {
   "cell_type": "code",
   "execution_count": 27,
   "id": "vulnerable-deposit",
   "metadata": {},
   "outputs": [
    {
     "name": "stdout",
     "output_type": "stream",
     "text": [
      "Задание 17.6.5\n"
     ]
    },
    {
     "data": {
      "text/latex": [
       "$\\displaystyle y^2 -2x -2y -5 = 0\\\\\n",
       "(y^2 -2y +1) -2x -5 -1 = 0\\\\\n",
       "(y-1)^2 -2x -6 = 0\\\\\n",
       "(y-1)^2 = 2x+6\\\\\n",
       "(y-1)^2 = 2(x+3)$"
      ],
      "text/plain": [
       "<IPython.core.display.Math object>"
      ]
     },
     "metadata": {},
     "output_type": "display_data"
    },
    {
     "ename": "TypeError",
     "evalue": "'float' object cannot be interpreted as an integer",
     "output_type": "error",
     "traceback": [
      "\u001b[0;31m---------------------------------------------------------------------------\u001b[0m",
      "\u001b[0;31mTypeError\u001b[0m                                 Traceback (most recent call last)",
      "\u001b[0;32m<ipython-input-27-fcbead6bc593>\u001b[0m in \u001b[0;36m<module>\u001b[0;34m\u001b[0m\n\u001b[1;32m      5\u001b[0m \u001b[0;34m(\u001b[0m\u001b[0my\u001b[0m\u001b[0;34m-\u001b[0m\u001b[0;36m1\u001b[0m\u001b[0;34m)\u001b[0m\u001b[0;34m^\u001b[0m\u001b[0;36m2\u001b[0m \u001b[0;34m=\u001b[0m \u001b[0;36m2\u001b[0m\u001b[0mx\u001b[0m\u001b[0;34m+\u001b[0m\u001b[0;36m6\u001b[0m\u001b[0;31m\\\u001b[0m\u001b[0;31m\\\u001b[0m\u001b[0;34m\u001b[0m\u001b[0;34m\u001b[0m\u001b[0m\n\u001b[1;32m      6\u001b[0m (y-1)^2 = 2(x+3)\"\"\"))\n\u001b[0;32m----> 7\u001b[0;31m \u001b[0mx\u001b[0m \u001b[0;34m=\u001b[0m \u001b[0;34m[\u001b[0m\u001b[0mi\u001b[0m \u001b[0;32mfor\u001b[0m \u001b[0mi\u001b[0m \u001b[0;32min\u001b[0m \u001b[0mrange\u001b[0m\u001b[0;34m(\u001b[0m\u001b[0;34m-\u001b[0m\u001b[0;36m2.5\u001b[0m\u001b[0;34m,\u001b[0m \u001b[0;36m21\u001b[0m\u001b[0;34m,\u001b[0m \u001b[0;36m1\u001b[0m\u001b[0;34m)\u001b[0m\u001b[0;34m]\u001b[0m\u001b[0;34m\u001b[0m\u001b[0;34m\u001b[0m\u001b[0m\n\u001b[0m\u001b[1;32m      8\u001b[0m \u001b[0mprint\u001b[0m\u001b[0;34m(\u001b[0m\u001b[0mx\u001b[0m\u001b[0;34m)\u001b[0m\u001b[0;34m\u001b[0m\u001b[0;34m\u001b[0m\u001b[0m\n\u001b[1;32m      9\u001b[0m \u001b[0mprint\u001b[0m\u001b[0;34m(\u001b[0m\u001b[0mlen\u001b[0m\u001b[0;34m(\u001b[0m\u001b[0mx\u001b[0m\u001b[0;34m)\u001b[0m\u001b[0;34m)\u001b[0m\u001b[0;34m\u001b[0m\u001b[0;34m\u001b[0m\u001b[0m\n",
      "\u001b[0;31mTypeError\u001b[0m: 'float' object cannot be interpreted as an integer"
     ]
    }
   ],
   "source": [
    "print('Задание 17.6.5')\n",
    "display(Math(r\"\"\"y^2 -2x -2y -5 = 0\\\\\n",
    "(y^2 -2y +1) -2x -5 -1 = 0\\\\\n",
    "(y-1)^2 -2x -6 = 0\\\\\n",
    "(y-1)^2 = 2x+6\\\\\n",
    "(y-1)^2 = 2(x+3)\"\"\"))\n",
    "x = [i for i in range(-3, 21, 1)]\n",
    "print(x)\n",
    "print(len(x))\n",
    "y = [np.sqrt(2*i+6)+1 for i in x]\n",
    "print(len(y))\n",
    "y.insert(0,0)\n",
    "y.pop(len(y)-1)\n",
    "plt.plot(x, y, marker='o')\n",
    "y = [-1*(np.sqrt(2*i+6)+1) for i in x]\n",
    "y.insert(0,0)\n",
    "y.pop(len(y)-1)\n",
    "plt.plot(x, y, marker='o')"
   ]
  },
  {
   "cell_type": "code",
   "execution_count": 5,
   "id": "numerical-billy",
   "metadata": {},
   "outputs": [
    {
     "name": "stdout",
     "output_type": "stream",
     "text": [
      "Задание 17.6.6\n"
     ]
    },
    {
     "data": {
      "text/latex": [
       "$\\displaystyle 3x^2 +5y^2 +12x -30y +42 = 0\\\\\n",
       "3(x^2 + 4x) +5(y^2 -6y) +42 = 0\\\\\n",
       "3(x^2 + 4x +2) +5(y^2 -6y +9) +42 -45 -6= 0\\\\\n",
       "3(x+2)^2 +5(y-1)^2 = 9 |:9\\\\\n",
       "\\frac{3(x+2)^2}{9} +\\frac{5(y-1)^2}{9} = 1\\\\\n",
       "\\frac{(x+2)^2}{3} +\\frac{(y-1)^2}{1,8} = 1$"
      ],
      "text/plain": [
       "<IPython.core.display.Math object>"
      ]
     },
     "metadata": {},
     "output_type": "display_data"
    },
    {
     "name": "stderr",
     "output_type": "stream",
     "text": [
      "<ipython-input-5-6b6002ebdcf1>:8: RuntimeWarning: invalid value encountered in sqrt\n",
      "  y = [np.sqrt(1-(1.8*(((i+2)**2)/3)))+1 for i in range(-20, 20, 1)]\n",
      "<ipython-input-5-6b6002ebdcf1>:10: RuntimeWarning: invalid value encountered in sqrt\n",
      "  y = [-1*(np.sqrt(1-(1.8*(((i+2)**2)/3)))) for i in range(-20, 20, 1)]\n"
     ]
    },
    {
     "data": {
      "text/plain": [
       "[<matplotlib.lines.Line2D at 0x7f1feffafac0>]"
      ]
     },
     "execution_count": 5,
     "metadata": {},
     "output_type": "execute_result"
    },
    {
     "data": {
      "image/png": "[encoded data removed]",
      "text/plain": [
       "<Figure size 432x288 with 1 Axes>"
      ]
     },
     "metadata": {
      "needs_background": "light"
     },
     "output_type": "display_data"
    }
   ],
   "source": [
    "print('Задание 17.6.6')\n",
    "display(Math(r\"\"\"3x^2 +5y^2 +12x -30y +42 = 0\\\\\n",
    "3(x^2 + 4x) +5(y^2 -6y) +42 = 0\\\\\n",
    "3(x^2 + 4x +2) +5(y^2 -6y +9) +42 -45 -6= 0\\\\\n",
    "3(x+2)^2 +5(y-1)^2 = 9 |:9\\\\\n",
    "\\frac{3(x+2)^2}{9} +\\frac{5(y-1)^2}{9} = 1\\\\\n",
    "\\frac{(x+2)^2}{3} +\\frac{(y-1)^2}{1,8} = 1\"\"\"))\n",
    "y = [np.sqrt(1-(1.8*(((i+2)**2)/3)))+1 for i in range(-20, 20, 1)]\n",
    "plt.plot([i for i in range(-20, 20, 1)], y, marker='o')\n",
    "y = [-1*(np.sqrt(1-(1.8*(((i+2)**2)/3)))) for i in range(-20, 20, 1)]\n",
    "plt.plot([i for i in range(-20, 20, 1)], y, marker='o')\n"
   ]
  },
  {
   "cell_type": "code",
   "execution_count": 6,
   "id": "seventh-saudi",
   "metadata": {},
   "outputs": [
    {
     "name": "stdout",
     "output_type": "stream",
     "text": [
      "Задание 17.6.7\n"
     ]
    },
    {
     "data": {
      "text/latex": [
       "$\\displaystyle 2x^2 -3y^2 -28x -42y -55 = 0\\\\\n",
       "2(x^2 -14x) +3(y^2 -14y) -55 = 0\\\\\n",
       "2(x^2 -14x +49) +3(y^2 -14y +49) -55 -49 -49= 0\\\\\n",
       "2(x-7)^2 +3(y-7)^2 = 153\\\\\n",
       "(y-1)^2 = 2(x+2)$"
      ],
      "text/plain": [
       "<IPython.core.display.Math object>"
      ]
     },
     "metadata": {},
     "output_type": "display_data"
    },
    {
     "data": {
      "text/plain": [
       "[<matplotlib.lines.Line2D at 0x7f1feff8fb80>]"
      ]
     },
     "execution_count": 6,
     "metadata": {},
     "output_type": "execute_result"
    },
    {
     "data": {
      "image/png": "[encoded data removed]",
      "text/plain": [
       "<Figure size 432x288 with 1 Axes>"
      ]
     },
     "metadata": {
      "needs_background": "light"
     },
     "output_type": "display_data"
    }
   ],
   "source": [
    "print('Задание 17.6.7')\n",
    "display(Math(r\"\"\"2x^2 -3y^2 -28x -42y -55 = 0\\\\\n",
    "2(x^2 -14x) +3(y^2 -14y) -55 = 0\\\\\n",
    "2(x^2 -14x +49) +3(y^2 -14y +49) -55 -49 -49= 0\\\\\n",
    "2(x-7)^2 +3(y-7)^2 = 153\\\\\n",
    "(y-1)^2 = 2(x+2)\"\"\"))\n",
    "y = [np.sqrt(2*i+4)+1 for i in range(-2, 20, 1)]\n",
    "plt.plot([i for i in range(-2, 20, 1)], y, marker='o')\n",
    "y = [-1*(np.sqrt(2*i+4)+1) for i in range(-2, 20, 1)]\n",
    "plt.plot([i for i in range(-2, 20, 1)], y, marker='o')"
   ]
  },
  {
   "cell_type": "code",
   "execution_count": 7,
   "id": "figured-bumper",
   "metadata": {},
   "outputs": [
    {
     "name": "stdout",
     "output_type": "stream",
     "text": [
      "Задание 17.6.8\n"
     ]
    },
    {
     "data": {
      "text/latex": [
       "$\\displaystyle 2x^2 -3y^2 -28x -42y -55 = 0\\\\\n",
       "2(x^2 -14x) +3(y^2 -14y) -55 = 0\\\\\n",
       "2(x^2 -14x +49) +3(y^2 -14y +49) -55 -49 -49= 0\\\\\n",
       "2(x-7)^2 +3(y-7)^2 = 153\\\\\n",
       "\\frac{(x+2)^2}{3} +\\frac{(y-1)^2}{1,8} = 1$"
      ],
      "text/plain": [
       "<IPython.core.display.Math object>"
      ]
     },
     "metadata": {},
     "output_type": "display_data"
    },
    {
     "data": {
      "text/plain": [
       "[<matplotlib.lines.Line2D at 0x7f1fefef54c0>]"
      ]
     },
     "execution_count": 7,
     "metadata": {},
     "output_type": "execute_result"
    },
    {
     "data": {
      "image/png": "[encoded data removed]",
      "text/plain": [
       "<Figure size 432x288 with 1 Axes>"
      ]
     },
     "metadata": {
      "needs_background": "light"
     },
     "output_type": "display_data"
    }
   ],
   "source": [
    "print('Задание 17.6.8')\n",
    "display(Math(r\"\"\"2x^2 -3y^2 -28x -42y -55 = 0\\\\\n",
    "2(x^2 -14x) +3(y^2 -14y) -55 = 0\\\\\n",
    "2(x^2 -14x +49) +3(y^2 -14y +49) -55 -49 -49= 0\\\\\n",
    "2(x-7)^2 +3(y-7)^2 = 153\\\\\n",
    "\\frac{(x+2)^2}{3} +\\frac{(y-1)^2}{1,8} = 1\"\"\"))\n",
    "y = [np.sqrt(2*i+4)+1 for i in range(-2, 20, 1)]\n",
    "plt.plot([i for i in range(-2, 20, 1)], y, marker='o')\n",
    "y = [-1*(np.sqrt(2*i+4)+1) for i in range(-2, 20, 1)]\n",
    "plt.plot([i for i in range(-2, 20, 1)], y, marker='o')"
   ]
  }
 ],
 "metadata": {
  "kernelspec": {
   "display_name": "Python 3",
   "language": "python",
   "name": "python3"
  },
  "language_info": {
   "codemirror_mode": {
    "name": "ipython",
    "version": 3
   },
   "file_extension": ".py",
   "mimetype": "text/x-python",
   "name": "python",
   "nbconvert_exporter": "python",
   "pygments_lexer": "ipython3",
   "version": "3.8.5"
  }
 },
 "nbformat": 4,
 "nbformat_minor": 5
}
