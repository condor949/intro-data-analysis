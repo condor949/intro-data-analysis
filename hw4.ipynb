{
 "cells": [
  {
   "cell_type": "code",
   "execution_count": 5,
   "id": "latter-bulgarian",
   "metadata": {},
   "outputs": [
    {
     "name": "stdout",
     "output_type": "stream",
     "text": [
      "Задание 1\n"
     ]
    },
    {
     "data": {
      "text/latex": [
       "$\\displaystyle \\frac{\\sin{x}}{x} = 0\\\\\n",
       "x = \\pi n, n \\neq 0 , n \\in Z$"
      ],
      "text/plain": [
       "<IPython.core.display.Math object>"
      ]
     },
     "metadata": {},
     "output_type": "display_data"
    }
   ],
   "source": [
    "import numpy as np\n",
    "import matplotlib.pyplot as plt\n",
    "from IPython.display import display, Math, Latex\n",
    "%matplotlib inline\n",
    "\n",
    "print('Задание 1')\n",
    "display(Math(r\"\"\"\\frac{\\sin{x}}{x} = 0\\\\\n",
    "x = \\pi n, n \\neq 0 , n \\in Z\"\"\"))"
   ]
  },
  {
   "cell_type": "code",
   "execution_count": 26,
   "id": "rapid-direction",
   "metadata": {},
   "outputs": [
    {
     "ename": "SyntaxError",
     "evalue": "invalid syntax (<ipython-input-26-dbf3569b9e91>, line 22)",
     "output_type": "error",
     "traceback": [
      "\u001b[0;36m  File \u001b[0;32m\"<ipython-input-26-dbf3569b9e91>\"\u001b[0;36m, line \u001b[0;32m22\u001b[0m\n\u001b[0;31m    Если\"\"\", $$\\delta = 0$$, \"то три данные прямые попарно различны и проходят через одну точку\")\u001b[0m\n\u001b[0m               ^\u001b[0m\n\u001b[0;31mSyntaxError\u001b[0m\u001b[0;31m:\u001b[0m invalid syntax\n"
     ]
    }
   ],
   "source": [
    "print('Задание 2')\n",
    "display(Math(r\"\"\"y=k_1 x+b_1\\\\ y=k_2 x+b_2\\\\ y=k_3 x+b_3\"\"\"))\n",
    "print('Запишем в общем виде эти уравнения')\n",
    "display(Math(r\"\"\"Ax+By+C=0\\\\k_1 x-1\\cdot y+b_1=0\\\\ k_2 x-1\\cdot y+b_2=0\\\\ k_3 x-1\\cdot y+b_3=0\"\"\"))\n",
    "print('Матричный вид:')\n",
    "display(Math(r\"\"\"\\Delta = \\begin{pmatrix}\n",
    "  k_1 & -1 & b_1 \\\\\n",
    "  k_2 & -1 & b_2 \\\\\n",
    "  k_3 & -1 & b_3 \n",
    " \\end{pmatrix}\"\"\"))\n",
    "print('тогда')\n",
    "display(Math(r\"\"\"\\delta_1 = \\begin{vmatrix}\n",
    "  k_2 & -1 \\\\\n",
    "  k_3 & -1\\end{vmatrix}\"\"\"))\n",
    "display(Math(r\"\"\"\\delta_2 = \\begin{vmatrix}\n",
    "  k_1 & -1 \\\\\n",
    "  k_3 & -1\\end{vmatrix}\"\"\"))\n",
    "display(Math(r\"\"\"\\delta_3 = \\begin{vmatrix}\n",
    "  k_1 & -1 \\\\\n",
    "  k_2 & -1\\end{vmatrix}\"\"\"))\n",
    "print(\"\"\"На основании предыдущего получаем следующие необходимые и достаточные признаки взаимного расположения трех данных прямых.\\\\\n",
    "Если\"\"\", $$\\delta = 0$$, \"то три данные прямые попарно различны и проходят через одну точку\")\n"
   ]
  },
  {
   "cell_type": "code",
   "execution_count": null,
   "id": "stock-washer",
   "metadata": {},
   "outputs": [],
   "source": [
    "d"
   ]
  }
 ],
 "metadata": {
  "kernelspec": {
   "display_name": "Python 3",
   "language": "python",
   "name": "python3"
  },
  "language_info": {
   "codemirror_mode": {
    "name": "ipython",
    "version": 3
   },
   "file_extension": ".py",
   "mimetype": "text/x-python",
   "name": "python",
   "nbconvert_exporter": "python",
   "pygments_lexer": "ipython3",
   "version": "3.8.5"
  }
 },
 "nbformat": 4,
 "nbformat_minor": 5
}
