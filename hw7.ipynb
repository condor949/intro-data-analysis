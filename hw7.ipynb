{
 "cells": [
  {
   "cell_type": "code",
   "execution_count": 4,
   "id": "ideal-rapid",
   "metadata": {},
   "outputs": [
    {
     "name": "stdout",
     "output_type": "stream",
     "text": [
      "Задание 1\n"
     ]
    },
    {
     "data": {
      "text/latex": [
       "$\\displaystyle (5*E)^{-1} = 5^{-1} * E^{-1} = \\frac{1}{5} * E$"
      ],
      "text/plain": [
       "<IPython.core.display.Math object>"
      ]
     },
     "metadata": {},
     "output_type": "display_data"
    },
    {
     "name": "stdout",
     "output_type": "stream",
     "text": [
      "Проверка:\n",
      "[[ 0.2  0.   0.   0.   0. ]\n",
      " [ 0.   0.2  0.   0.   0. ]\n",
      " [ 0.   0.   0.2  0.   0. ]\n",
      " [-0.  -0.  -0.   0.2 -0. ]\n",
      " [ 0.   0.   0.   0.   0.2]]\n"
     ]
    }
   ],
   "source": [
    "import numpy as np\n",
    "import matplotlib.pyplot as plt\n",
    "from IPython.display import display, Math, Latex\n",
    "import seaborn as sns\n",
    "%matplotlib inline\n",
    "\n",
    "print('Задание 1')\n",
    "display(Math(r\"\"\"(5*E)^{-1} = 5^{-1} * E^{-1} = \\frac{1}{5} * E\"\"\"))\n",
    "print('Проверка:')\n",
    "A = np.eye(5)\n",
    "# print(A)\n",
    "B = A*5\n",
    "# print(B)\n",
    "A_inv = np.linalg.inv(B)\n",
    "print(A_inv)"
   ]
  },
  {
   "cell_type": "code",
   "execution_count": 14,
   "id": "ancient-abortion",
   "metadata": {},
   "outputs": [
    {
     "name": "stdout",
     "output_type": "stream",
     "text": [
      "Задание 2\n"
     ]
    },
    {
     "data": {
      "text/latex": [
       "$\\displaystyle \n",
       "\\begin{vmatrix}\n",
       "    1 & 2 & 3\\\\\n",
       "    4 & 0 & 6\\\\\n",
       "    7 & 8 & 9\n",
       "\\end{vmatrix} = -4 * \\begin{vmatrix}2&3\\\\8&9\\end{vmatrix} -6 *\\begin{vmatrix}1&2\\\\7&8\\end{vmatrix} = -4*(2*9 -3*8) -6*(8 - 2*7) =\\\\\n",
       "-4*(-6)-6*(-6) = 60$"
      ],
      "text/plain": [
       "<IPython.core.display.Math object>"
      ]
     },
     "metadata": {},
     "output_type": "display_data"
    },
    {
     "name": "stdout",
     "output_type": "stream",
     "text": [
      "Проверка\n",
      "60\n"
     ]
    }
   ],
   "source": [
    "print('Задание 2')\n",
    "display(Math(r\"\"\"\n",
    "\\begin{vmatrix}\n",
    "    1 & 2 & 3\\\\\n",
    "    4 & 0 & 6\\\\\n",
    "    7 & 8 & 9\n",
    "\\end{vmatrix} = -4 * \\begin{vmatrix}2&3\\\\8&9\\end{vmatrix} -6 *\\begin{vmatrix}1&2\\\\7&8\\end{vmatrix} = -4*(2*9 -3*8) -6*(8 - 2*7) =\\\\\n",
    "-4*(-6)-6*(-6) = 60\"\"\"))\n",
    "print('Проверка:')\n",
    "A = np.matrix('1 2 3; 4 0 6; 7 8 9')\n",
    "c = round(np.linalg.det(A))\n",
    "print(c)"
   ]
  },
  {
   "cell_type": "code",
   "execution_count": 24,
   "id": "white-mobile",
   "metadata": {},
   "outputs": [
    {
     "name": "stdout",
     "output_type": "stream",
     "text": [
      "Задание 3.1\n"
     ]
    },
    {
     "data": {
      "text/latex": [
       "$\\displaystyle A^{-1} = \\begin{pmatrix}\n",
       "    1 & 2 & 3\\\\\n",
       "    4 & 0 & 6\\\\\n",
       "    7 & 8 & 9\n",
       "\\end{pmatrix}^{-1} = $"
      ],
      "text/plain": [
       "<IPython.core.display.Math object>"
      ]
     },
     "metadata": {},
     "output_type": "display_data"
    },
    {
     "data": {
      "text/latex": [
       "$\\displaystyle \\frac{1}{det(A)} * A^{*^T}$"
      ],
      "text/plain": [
       "<IPython.core.display.Math object>"
      ]
     },
     "metadata": {},
     "output_type": "display_data"
    },
    {
     "data": {
      "text/latex": [
       "$\\displaystyle det(A) = \\begin{vmatrix}\n",
       "    1 & 2 & 3\\\\\n",
       "    4 & 0 & 6\\\\\n",
       "    7 & 8 & 9\n",
       "\\end{vmatrix} = 60$"
      ],
      "text/plain": [
       "<IPython.core.display.Math object>"
      ]
     },
     "metadata": {},
     "output_type": "display_data"
    },
    {
     "data": {
      "text/latex": [
       "$\\displaystyle A^* = \\begin{vmatrix}\n",
       "    -48 & 6 & 32\\\\\n",
       "    6 & -12 & 6\\\\\n",
       "    12 & 6 & -8\n",
       "\\end{vmatrix}$"
      ],
      "text/plain": [
       "<IPython.core.display.Math object>"
      ]
     },
     "metadata": {},
     "output_type": "display_data"
    },
    {
     "data": {
      "text/latex": [
       "$\\displaystyle A^{*^T} = \\begin{vmatrix}\n",
       "    -48 & 6 & 12\\\\\n",
       "    6 & -12 & 6\\\\\n",
       "    32 & 6 & -8\n",
       "\\end{vmatrix}$"
      ],
      "text/plain": [
       "<IPython.core.display.Math object>"
      ]
     },
     "metadata": {},
     "output_type": "display_data"
    },
    {
     "data": {
      "text/latex": [
       "$\\displaystyle A^{-1} = \\frac{1}{60} * \\begin{vmatrix}\n",
       "    -48 & 6 & 12\\\\\n",
       "    6 & -12 & 6\\\\\n",
       "    32 & 6 & -8\n",
       "\\end{vmatrix} = \\begin{vmatrix}\n",
       "    -0.8 & 0.1 & 0.2\\\\\n",
       "    0.1 & -12 & 0.1\\\\\n",
       "    0.53 & 0.1 & -0.13\n",
       "\\end{vmatrix}$"
      ],
      "text/plain": [
       "<IPython.core.display.Math object>"
      ]
     },
     "metadata": {},
     "output_type": "display_data"
    },
    {
     "name": "stdout",
     "output_type": "stream",
     "text": [
      "Проверка:\n",
      "[[-0.8         0.1         0.2       ]\n",
      " [ 0.1        -0.2         0.1       ]\n",
      " [ 0.53333333  0.1        -0.13333333]]\n"
     ]
    }
   ],
   "source": [
    "print('Задание 3.1')\n",
    "display(Math(r\"\"\"A^{-1} = \\begin{pmatrix}\n",
    "    1 & 2 & 3\\\\\n",
    "    4 & 0 & 6\\\\\n",
    "    7 & 8 & 9\n",
    "\\end{pmatrix}^{-1} = \"\"\"))\n",
    "display(Math(r\"\"\"\\frac{1}{det(A)} * A^{*^T}\"\"\"))\n",
    "display(Math(r\"\"\"det(A) = \\begin{vmatrix}\n",
    "    1 & 2 & 3\\\\\n",
    "    4 & 0 & 6\\\\\n",
    "    7 & 8 & 9\n",
    "\\end{vmatrix} = 60\"\"\"))\n",
    "display(Math(r\"\"\"A^* = \\begin{vmatrix}\n",
    "    -48 & 6 & 32\\\\\n",
    "    6 & -12 & 6\\\\\n",
    "    12 & 6 & -8\n",
    "\\end{vmatrix}\"\"\"))\n",
    "display(Math(r\"\"\"A^{*^T} = \\begin{vmatrix}\n",
    "    -48 & 6 & 12\\\\\n",
    "    6 & -12 & 6\\\\\n",
    "    32 & 6 & -8\n",
    "\\end{vmatrix}\"\"\"))\n",
    "display(Math(r\"\"\"A^{-1} = \\frac{1}{60} * \\begin{vmatrix}\n",
    "    -48 & 6 & 12\\\\\n",
    "    6 & -12 & 6\\\\\n",
    "    32 & 6 & -8\n",
    "\\end{vmatrix} = \\begin{vmatrix}\n",
    "    -0.8 & 0.1 & 0.2\\\\\n",
    "    0.1 & -12 & 0.1\\\\\n",
    "    0.53 & 0.1 & -0.13\n",
    "\\end{vmatrix}\"\"\"))\n",
    "print('Проверка:')\n",
    "A = np.matrix('1 2 3; 4 0 6; 7 8 9')\n",
    "A_inv = np.linalg.inv(A)\n",
    "print(A_inv)"
   ]
  },
  {
   "cell_type": "code",
   "execution_count": 27,
   "id": "pleased-australia",
   "metadata": {},
   "outputs": [
    {
     "name": "stdout",
     "output_type": "stream",
     "text": [
      "Задание 3.2\n"
     ]
    },
    {
     "data": {
      "text/latex": [
       "$\\displaystyle A = \\begin{pmatrix}\n",
       "    1 & 1 & 1 & 1\\\\\n",
       "    0 & 0 & 0 & 0\\\\\n",
       "    0 & 0 & 0 & 0\\\\\n",
       "    0 & 0 & 0 & 0\n",
       "\\end{pmatrix}$"
      ],
      "text/plain": [
       "<IPython.core.display.Math object>"
      ]
     },
     "metadata": {},
     "output_type": "display_data"
    },
    {
     "name": "stdout",
     "output_type": "stream",
     "text": [
      "Проверка:\n",
      "1\n"
     ]
    }
   ],
   "source": [
    "print('Задание 3.2')\n",
    "display(Math(r\"\"\"A = \\begin{pmatrix}\n",
    "    1 & 2 & 3 & 4\\\\\n",
    "    0 & 0 & 0 & 0\\\\\n",
    "    0 & 0 & 0 & 0\\\\\n",
    "    0 & 0 & 0 & 0\n",
    "\\end{pmatrix}\"\"\"))\n",
    "print('Проверка:')\n",
    "A = np.matrix('1 2 3 4; 0 0 0 0; 0 0 0 0; 0 0 0 0')\n",
    "rank = np.linalg.matrix_rank(A)\n",
    "print(rank)"
   ]
  },
  {
   "cell_type": "code",
   "execution_count": 28,
   "id": "israeli-pottery",
   "metadata": {},
   "outputs": [
    {
     "name": "stdout",
     "output_type": "stream",
     "text": [
      "Задание 4\n",
      "Скалярное произведение равно:  42\n"
     ]
    }
   ],
   "source": [
    "print('Задание 4')\n",
    "a = np.array([1, 5])\n",
    "b = np.array([2, 8])\n",
    " \n",
    "print('Скалярное произведение равно: ', np.dot(a, b))"
   ]
  },
  {
   "cell_type": "code",
   "execution_count": 32,
   "id": "affecting-rhythm",
   "metadata": {},
   "outputs": [
    {
     "name": "stdout",
     "output_type": "stream",
     "text": [
      "228\n"
     ]
    }
   ],
   "source": [
    "v = np.array([1,5,0])\n",
    "w = np.array([2,8,7])\n",
    "x = np.array([7, 1.5, 3])\n",
    "A = []\n",
    "A.append(v)\n",
    "A.append(w)\n",
    "A.append(x)\n",
    "A = np.matrix(A)\n",
    "det_A = round(np.linalg.det(A))\n",
    "print('Смешанное произведение равно: ',det_A)"
   ]
  },
  {
   "cell_type": "code",
   "execution_count": null,
   "id": "focal-admission",
   "metadata": {},
   "outputs": [],
   "source": []
  }
 ],
 "metadata": {
  "kernelspec": {
   "display_name": "Python 3",
   "language": "python",
   "name": "python3"
  },
  "language_info": {
   "codemirror_mode": {
    "name": "ipython",
    "version": 3
   },
   "file_extension": ".py",
   "mimetype": "text/x-python",
   "name": "python",
   "nbconvert_exporter": "python",
   "pygments_lexer": "ipython3",
   "version": "3.8.5"
  }
 },
 "nbformat": 4,
 "nbformat_minor": 5
}
